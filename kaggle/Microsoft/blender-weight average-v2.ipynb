{
 "cells": [
  {
   "cell_type": "code",
   "execution_count": 1,
   "metadata": {},
   "outputs": [],
   "source": [
    "#https://www.kaggle.com/enzus01/two-style-of-blending-and-double-blend-03d58b/notebook?scriptVersionId=9116365\n",
    "import numpy as np\n",
    "import pandas as pd\n",
    "import os\n",
    "\n",
    "from scipy.stats import rankdata\n",
    "\n",
    "# DATA VIZUALIZATION LIBRARIES\n",
    "from matplotlib import pyplot as plt\n",
    "import seaborn as sns\n",
    "\n",
    "# METRICS TO MEASURE RMSE\n",
    "from math import sqrt\n",
    "from sklearn import metrics\n",
    "LABELS = [\"HasDetections\"]"
   ]
  },
  {
   "cell_type": "code",
   "execution_count": 3,
   "metadata": {},
   "outputs": [
    {
     "name": "stdout",
     "output_type": "stream",
     "text": [
      "blender-v2 .695.ipynb           super_blend.csv\r\n",
      "blender-v3.695.ipynb            v1.csv\r\n",
      "blender-v4.ipynb                v1_extrem.csv\r\n",
      "blender-v5.ipynb                v2_extrem.csv\r\n",
      "blender-v6.ipynb                v3.zip\r\n",
      "blender-weight average-v2.ipynb v3_extrem.csv\r\n",
      "blender-weight average.ipynb    v4.csv\r\n",
      "blender.ipynb                   v5.csv\r\n",
      "lgb_submission01.csv            v5.zip\r\n",
      "merge_mymodels.csv              v6.csv\r\n",
      "merge_mymodels.zip              v6.zip\r\n",
      "nffm_submission.csv             v7.csv\r\n",
      "submitVersion2_11.csv           v7.zip\r\n",
      "submitVersion2_24.csv           v8.csv\r\n",
      "submitVersion2_27.csv           v8.zip\r\n",
      "submitv1.csv                    v9.csv\r\n",
      "super_blend.695csv.csv          v9.zip\r\n"
     ]
    }
   ],
   "source": [
    "!ls\n"
   ]
  },
  {
   "cell_type": "code",
   "execution_count": 4,
   "metadata": {},
   "outputs": [],
   "source": [
    "#ALL PUBLIC SOLUTION RMSE < 0.2269 (WITHOUT REPETITIONS)\n",
    "df_base0 = pd.read_csv(\"v9.csv\",names=[\"MachineIdentifier\",\"HasDetections0\"], skiprows=[0],header=None)\n",
    "df_base1 = pd.read_csv(\"super_blend.695csv.csv\",names=[\"MachineIdentifier\",\"HasDetections1\"], skiprows=[0],header=None)\n",
    "#df_base1 = pd.read_csv(\"submitVersion2_11.csv\",names=[\"MachineIdentifier\",\"HasDetections2\"], skiprows=[0],header=None)\n",
    "#df_base2 = pd.read_csv(\"nffm_submission.csv\",names=[\"MachineIdentifier\",\"HasDetections2\"], skiprows=[0],header=None)\n",
    "#df_base3 = pd.read_csv(\"lgb_submission01.csv\",names=[\"MachineIdentifier\",\"HasDetections3\"], skiprows=[0],header=None)\n",
    "#df_base4 = pd.read_csv(\"v5.csv\",names=[\"MachineIdentifier\",\"HasDetections4\"], skiprows=[0],header=None)\n",
    "#df_base5 = pd.read_csv(\"submitVersion2_27.csv\",names=[\"MachineIdentifier\",\"HasDetections6\"], skiprows=[0],header=None)\n",
    "\n",
    "\n",
    "#df_base2 = pd.read_csv(\"v2_extrem.csv\",names=[\"MachineIdentifier\",\"HasDetections3\"], skiprows=[0],header=None)\n",
    "#df_base3 = pd.read_csv(\"lgb_submission01.csv\",names=[\"MachineIdentifier\",\"HasDetections4\"], skiprows=[0],header=None)\n",
    "#df_base1 = pd.read_csv(\"submitVersion2_11.csv\",names=[\"MachineIdentifier\",\"HasDetections2\"], skiprows=[0],header=None)\n",
    "\n",
    "#df_base4 = pd.read_csv(\"submitVersion2_24.csv\",names=[\"MachineIdentifier\",\"HasDetections5\"], skiprows=[0],header=None)\n",
    "#df_base5 = pd.read_csv(\"submitVersion2_27.csv\",names=[\"MachineIdentifier\",\"HasDetections6\"], skiprows=[0],header=None)\n",
    "\n"
   ]
  },
  {
   "cell_type": "code",
   "execution_count": 5,
   "metadata": {},
   "outputs": [],
   "source": [
    "df_base = pd.merge(df_base0,df_base1,how='inner',on='MachineIdentifier')\n",
    "#df_base = pd.merge(df_base,df_base3,how='inner',on='MachineIdentifier')\n",
    "\n",
    "\n",
    "#df_base = pd.merge(df_base,df_base3,how='inner',on='MachineIdentifier')\n",
    "#df_base = pd.merge(df_base,df_base4,how='inner',on='MachineIdentifier')\n",
    "#df_base = pd.merge(df_base,df_base5,how='inner',on='MachineIdentifier')\n"
   ]
  },
  {
   "cell_type": "code",
   "execution_count": 6,
   "metadata": {},
   "outputs": [
    {
     "data": {
      "text/plain": [
       "<matplotlib.axes._subplots.AxesSubplot at 0x1a1f1cbfd0>"
      ]
     },
     "execution_count": 6,
     "metadata": {},
     "output_type": "execute_result"
    },
    {
     "data": {
      "image/png": "[encoded data removed]",
      "text/plain": [
       "<Figure size 1152x1152 with 2 Axes>"
      ]
     },
     "metadata": {
      "needs_background": "light"
     },
     "output_type": "display_data"
    }
   ],
   "source": [
    "plt.figure(figsize=(16,16))\n",
    "sns.heatmap(df_base.iloc[:,1:].corr(),annot=True,fmt=\".2f\")"
   ]
  },
  {
   "cell_type": "code",
   "execution_count": null,
   "metadata": {},
   "outputs": [],
   "source": [
    "#SOLUTION = MEAN OF COLUMNS\n",
    "df_base['HasDetections'] = df_base.iloc[:,1:].mean(axis=1)\n",
    "#df_base[['MachineIdentifier','HasDetections']].to_csv(\"v1.csv\",index=False)"
   ]
  },
  {
   "cell_type": "code",
   "execution_count": 7,
   "metadata": {},
   "outputs": [
    {
     "data": {
      "text/plain": [
       "Index(['MachineIdentifier', 'HasDetections0', 'HasDetections1'], dtype='object')"
      ]
     },
     "execution_count": 7,
     "metadata": {},
     "output_type": "execute_result"
    }
   ],
   "source": [
    "df_base.columns\n"
   ]
  },
  {
   "cell_type": "code",
   "execution_count": 8,
   "metadata": {},
   "outputs": [],
   "source": [
    "df_base['HasDetections']=.7*df_base['HasDetections0']+.3*df_base['HasDetections1']"
   ]
  },
  {
   "cell_type": "code",
   "execution_count": 10,
   "metadata": {},
   "outputs": [],
   "source": [
    "df_base[['MachineIdentifier','HasDetections']].to_csv(\"v10.csv\",index=False)"
   ]
  },
  {
   "cell_type": "code",
   "execution_count": 11,
   "metadata": {},
   "outputs": [
    {
     "name": "stdout",
     "output_type": "stream",
     "text": [
      "  adding: v10.csv (deflated 47%)\n"
     ]
    }
   ],
   "source": [
    "!zip v10.zip v10.csv"
   ]
  },
  {
   "cell_type": "code",
   "execution_count": 9,
   "metadata": {},
   "outputs": [
    {
     "data": {
      "text/html": [
       "<div>\n",
       "<style scoped>\n",
       "    .dataframe tbody tr th:only-of-type {\n",
       "        vertical-align: middle;\n",
       "    }\n",
       "\n",
       "    .dataframe tbody tr th {\n",
       "        vertical-align: top;\n",
       "    }\n",
       "\n",
       "    .dataframe thead th {\n",
       "        text-align: right;\n",
       "    }\n",
       "</style>\n",
       "<table border=\"1\" class=\"dataframe\">\n",
       "  <thead>\n",
       "    <tr style=\"text-align: right;\">\n",
       "      <th></th>\n",
       "      <th>MachineIdentifier</th>\n",
       "      <th>HasDetections0</th>\n",
       "      <th>HasDetections1</th>\n",
       "      <th>HasDetections</th>\n",
       "    </tr>\n",
       "  </thead>\n",
       "  <tbody>\n",
       "    <tr>\n",
       "      <th>0</th>\n",
       "      <td>0000010489e3af074adeac69c53e555e</td>\n",
       "      <td>0.572857</td>\n",
       "      <td>0.572761</td>\n",
       "      <td>0.572828</td>\n",
       "    </tr>\n",
       "    <tr>\n",
       "      <th>1</th>\n",
       "      <td>00000176ac758d54827acd545b6315a5</td>\n",
       "      <td>0.583786</td>\n",
       "      <td>0.674496</td>\n",
       "      <td>0.610999</td>\n",
       "    </tr>\n",
       "    <tr>\n",
       "      <th>2</th>\n",
       "      <td>0000019dcefc128c2d4387c1273dae1d</td>\n",
       "      <td>0.598078</td>\n",
       "      <td>0.773024</td>\n",
       "      <td>0.650562</td>\n",
       "    </tr>\n",
       "    <tr>\n",
       "      <th>3</th>\n",
       "      <td>0000055553dc51b1295785415f1a224d</td>\n",
       "      <td>0.401889</td>\n",
       "      <td>0.346037</td>\n",
       "      <td>0.385134</td>\n",
       "    </tr>\n",
       "    <tr>\n",
       "      <th>4</th>\n",
       "      <td>00000574cefffeca83ec8adf9285b2bf</td>\n",
       "      <td>0.524374</td>\n",
       "      <td>0.495768</td>\n",
       "      <td>0.515793</td>\n",
       "    </tr>\n",
       "  </tbody>\n",
       "</table>\n",
       "</div>"
      ],
      "text/plain": [
       "                  MachineIdentifier  HasDetections0  HasDetections1  \\\n",
       "0  0000010489e3af074adeac69c53e555e        0.572857        0.572761   \n",
       "1  00000176ac758d54827acd545b6315a5        0.583786        0.674496   \n",
       "2  0000019dcefc128c2d4387c1273dae1d        0.598078        0.773024   \n",
       "3  0000055553dc51b1295785415f1a224d        0.401889        0.346037   \n",
       "4  00000574cefffeca83ec8adf9285b2bf        0.524374        0.495768   \n",
       "\n",
       "   HasDetections  \n",
       "0       0.572828  \n",
       "1       0.610999  \n",
       "2       0.650562  \n",
       "3       0.385134  \n",
       "4       0.515793  "
      ]
     },
     "execution_count": 9,
     "metadata": {},
     "output_type": "execute_result"
    }
   ],
   "source": [
    "df_base.head()"
   ]
  },
  {
   "cell_type": "code",
   "execution_count": null,
   "metadata": {},
   "outputs": [],
   "source": [
    "def cleaner(row):\n",
    "    if row['HasDetections'] > 0.8:\n",
    "        return 1.\n",
    "    elif row['HasDetections'] < 0.2:\n",
    "        return 0\n",
    "    else:\n",
    "        return row['HasDetections']\n",
    "    \n",
    "df_base['HasDetections']=df_base.apply(lambda row: cleaner(row), axis=1)"
   ]
  },
  {
   "cell_type": "code",
   "execution_count": null,
   "metadata": {},
   "outputs": [],
   "source": [
    "df_base.head()"
   ]
  },
  {
   "cell_type": "code",
   "execution_count": null,
   "metadata": {},
   "outputs": [],
   "source": [
    "df_base.hist()"
   ]
  },
  {
   "cell_type": "code",
   "execution_count": null,
   "metadata": {},
   "outputs": [],
   "source": [
    "df_base.describe()"
   ]
  },
  {
   "cell_type": "code",
   "execution_count": null,
   "metadata": {},
   "outputs": [],
   "source": [
    "delta=0.5-df_base.HasDetections.mean()"
   ]
  },
  {
   "cell_type": "code",
   "execution_count": null,
   "metadata": {},
   "outputs": [],
   "source": [
    "delta"
   ]
  },
  {
   "cell_type": "code",
   "execution_count": null,
   "metadata": {},
   "outputs": [],
   "source": []
  }
 ],
 "metadata": {
  "kernelspec": {
   "display_name": "Python 3",
   "language": "python",
   "name": "python3"
  },
  "language_info": {
   "codemirror_mode": {
    "name": "ipython",
    "version": 3
   },
   "file_extension": ".py",
   "mimetype": "text/x-python",
   "name": "python",
   "nbconvert_exporter": "python",
   "pygments_lexer": "ipython3",
   "version": "3.6.6"
  }
 },
 "nbformat": 4,
 "nbformat_minor": 2
}
