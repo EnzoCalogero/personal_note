{
 "cells": [
  {
   "cell_type": "code",
   "execution_count": 1,
   "metadata": {},
   "outputs": [],
   "source": [
    "#https://www.kaggle.com/enzus01/two-style-of-blending-and-double-blend-03d58b/notebook?scriptVersionId=9116365\n",
    "import numpy as np\n",
    "import pandas as pd\n",
    "import os\n",
    "\n",
    "from scipy.stats import rankdata\n",
    "\n",
    "# DATA VIZUALIZATION LIBRARIES\n",
    "from matplotlib import pyplot as plt\n",
    "import seaborn as sns\n",
    "\n",
    "# METRICS TO MEASURE RMSE\n",
    "from math import sqrt\n",
    "from sklearn import metrics\n",
    "LABELS = [\"HasDetections\"]"
   ]
  },
  {
   "cell_type": "code",
   "execution_count": 2,
   "metadata": {},
   "outputs": [
    {
     "name": "stdout",
     "output_type": "stream",
     "text": [
      "blender-v2 .695.ipynb merge_mymodels.zip    v1_extrem.csv\r\n",
      "blender-v3.695.ipynb  nffm_submission.csv   v2_extrem.csv\r\n",
      "blender-v4.ipynb      submitVersion2_11.csv v3.zip\r\n",
      "blender-v5.ipynb      submitVersion2_24.csv v3_extrem.csv\r\n",
      "blender-v6.ipynb      submitVersion2_27.csv v4.csv\r\n",
      "blender.ipynb         submitv1.csv          v5.csv\r\n",
      "lgb_submission01.csv  super_blend.csv       v5.zip\r\n",
      "merge_mymodels.csv    v1.csv\r\n"
     ]
    }
   ],
   "source": [
    "!ls"
   ]
  },
  {
   "cell_type": "code",
   "execution_count": 3,
   "metadata": {},
   "outputs": [],
   "source": [
    "#ALL PUBLIC SOLUTION RMSE < 0.2269 (WITHOUT REPETITIONS)\n",
    "df_base0 = pd.read_csv(\"v4.csv\",names=[\"MachineIdentifier\",\"HasDetections0\"], skiprows=[0],header=None)\n",
    "df_base1 = pd.read_csv(\"super_blend.csv\",names=[\"MachineIdentifier\",\"HasDetections1\"], skiprows=[0],header=None)\n",
    "#df_base1 = pd.read_csv(\"submitVersion2_11.csv\",names=[\"MachineIdentifier\",\"HasDetections2\"], skiprows=[0],header=None)\n",
    "df_base2 = pd.read_csv(\"nffm_submission.csv\",names=[\"MachineIdentifier\",\"HasDetections2\"], skiprows=[0],header=None)\n",
    "df_base3 = pd.read_csv(\"lgb_submission01.csv\",names=[\"MachineIdentifier\",\"HasDetections3\"], skiprows=[0],header=None)\n",
    "df_base4 = pd.read_csv(\"v5.csv\",names=[\"MachineIdentifier\",\"HasDetections4\"], skiprows=[0],header=None)\n",
    "#df_base5 = pd.read_csv(\"submitVersion2_27.csv\",names=[\"MachineIdentifier\",\"HasDetections6\"], skiprows=[0],header=None)\n",
    "\n",
    "\n",
    "#df_base2 = pd.read_csv(\"v2_extrem.csv\",names=[\"MachineIdentifier\",\"HasDetections3\"], skiprows=[0],header=None)\n",
    "#df_base3 = pd.read_csv(\"lgb_submission01.csv\",names=[\"MachineIdentifier\",\"HasDetections4\"], skiprows=[0],header=None)\n",
    "#df_base1 = pd.read_csv(\"submitVersion2_11.csv\",names=[\"MachineIdentifier\",\"HasDetections2\"], skiprows=[0],header=None)\n",
    "\n",
    "#df_base4 = pd.read_csv(\"submitVersion2_24.csv\",names=[\"MachineIdentifier\",\"HasDetections5\"], skiprows=[0],header=None)\n",
    "#df_base5 = pd.read_csv(\"submitVersion2_27.csv\",names=[\"MachineIdentifier\",\"HasDetections6\"], skiprows=[0],header=None)\n",
    "\n"
   ]
  },
  {
   "cell_type": "code",
   "execution_count": 14,
   "metadata": {},
   "outputs": [],
   "source": [
    "df_base = pd.merge(df_base4,df_base2,how='inner',on='MachineIdentifier')\n",
    "df_base = pd.merge(df_base,df_base3,how='inner',on='MachineIdentifier')\n",
    "\n",
    "\n",
    "#df_base = pd.merge(df_base,df_base3,how='inner',on='MachineIdentifier')\n",
    "#df_base = pd.merge(df_base,df_base4,how='inner',on='MachineIdentifier')\n",
    "#df_base = pd.merge(df_base,df_base5,how='inner',on='MachineIdentifier')\n"
   ]
  },
  {
   "cell_type": "code",
   "execution_count": 15,
   "metadata": {},
   "outputs": [
    {
     "data": {
      "text/plain": [
       "<matplotlib.axes._subplots.AxesSubplot at 0x1a54ab5dd8>"
      ]
     },
     "execution_count": 15,
     "metadata": {},
     "output_type": "execute_result"
    },
    {
     "data": {
      "image/png": "[encoded data removed]",
      "text/plain": [
       "<Figure size 1152x1152 with 2 Axes>"
      ]
     },
     "metadata": {
      "needs_background": "light"
     },
     "output_type": "display_data"
    }
   ],
   "source": [
    "plt.figure(figsize=(16,16))\n",
    "sns.heatmap(df_base.iloc[:,1:].corr(),annot=True,fmt=\".2f\")"
   ]
  },
  {
   "cell_type": "code",
   "execution_count": 16,
   "metadata": {},
   "outputs": [],
   "source": [
    "#SOLUTION = MEAN OF COLUMNS\n",
    "df_base['HasDetections'] = df_base.iloc[:,1:].mean(axis=1)\n",
    "#df_base[['MachineIdentifier','HasDetections']].to_csv(\"v1.csv\",index=False)"
   ]
  },
  {
   "cell_type": "code",
   "execution_count": 17,
   "metadata": {},
   "outputs": [],
   "source": [
    "df_base[['MachineIdentifier','HasDetections']].to_csv(\"v8.csv\",index=False)"
   ]
  },
  {
   "cell_type": "code",
   "execution_count": 18,
   "metadata": {},
   "outputs": [
    {
     "name": "stdout",
     "output_type": "stream",
     "text": [
      "  adding: v8.csv (deflated 47%)\n"
     ]
    }
   ],
   "source": [
    "!zip v8.zip v8.csv"
   ]
  },
  {
   "cell_type": "code",
   "execution_count": 6,
   "metadata": {},
   "outputs": [
    {
     "data": {
      "text/html": [
       "<div>\n",
       "<style scoped>\n",
       "    .dataframe tbody tr th:only-of-type {\n",
       "        vertical-align: middle;\n",
       "    }\n",
       "\n",
       "    .dataframe tbody tr th {\n",
       "        vertical-align: top;\n",
       "    }\n",
       "\n",
       "    .dataframe thead th {\n",
       "        text-align: right;\n",
       "    }\n",
       "</style>\n",
       "<table border=\"1\" class=\"dataframe\">\n",
       "  <thead>\n",
       "    <tr style=\"text-align: right;\">\n",
       "      <th></th>\n",
       "      <th>MachineIdentifier</th>\n",
       "      <th>HasDetections0</th>\n",
       "      <th>HasDetections4</th>\n",
       "    </tr>\n",
       "  </thead>\n",
       "  <tbody>\n",
       "    <tr>\n",
       "      <th>0</th>\n",
       "      <td>0000010489e3af074adeac69c53e555e</td>\n",
       "      <td>0.603802</td>\n",
       "      <td>0.580149</td>\n",
       "    </tr>\n",
       "    <tr>\n",
       "      <th>1</th>\n",
       "      <td>00000176ac758d54827acd545b6315a5</td>\n",
       "      <td>0.635441</td>\n",
       "      <td>0.591908</td>\n",
       "    </tr>\n",
       "    <tr>\n",
       "      <th>2</th>\n",
       "      <td>0000019dcefc128c2d4387c1273dae1d</td>\n",
       "      <td>0.578227</td>\n",
       "      <td>0.658929</td>\n",
       "    </tr>\n",
       "    <tr>\n",
       "      <th>3</th>\n",
       "      <td>0000055553dc51b1295785415f1a224d</td>\n",
       "      <td>0.344777</td>\n",
       "      <td>0.494063</td>\n",
       "    </tr>\n",
       "    <tr>\n",
       "      <th>4</th>\n",
       "      <td>00000574cefffeca83ec8adf9285b2bf</td>\n",
       "      <td>0.521626</td>\n",
       "      <td>0.559320</td>\n",
       "    </tr>\n",
       "  </tbody>\n",
       "</table>\n",
       "</div>"
      ],
      "text/plain": [
       "                  MachineIdentifier  HasDetections0  HasDetections4\n",
       "0  0000010489e3af074adeac69c53e555e        0.603802        0.580149\n",
       "1  00000176ac758d54827acd545b6315a5        0.635441        0.591908\n",
       "2  0000019dcefc128c2d4387c1273dae1d        0.578227        0.658929\n",
       "3  0000055553dc51b1295785415f1a224d        0.344777        0.494063\n",
       "4  00000574cefffeca83ec8adf9285b2bf        0.521626        0.559320"
      ]
     },
     "execution_count": 6,
     "metadata": {},
     "output_type": "execute_result"
    }
   ],
   "source": [
    "df_base.head()"
   ]
  },
  {
   "cell_type": "code",
   "execution_count": 10,
   "metadata": {},
   "outputs": [],
   "source": [
    "def cleaner(row):\n",
    "    if row['HasDetections'] > 0.8:\n",
    "        return 1.\n",
    "    elif row['HasDetections'] < 0.2:\n",
    "        return 0\n",
    "    else:\n",
    "        return row['HasDetections']\n",
    "    \n",
    "df_base['HasDetections']=df_base.apply(lambda row: cleaner(row), axis=1)"
   ]
  },
  {
   "cell_type": "code",
   "execution_count": 18,
   "metadata": {},
   "outputs": [
    {
     "data": {
      "text/html": [
       "<div>\n",
       "<style scoped>\n",
       "    .dataframe tbody tr th:only-of-type {\n",
       "        vertical-align: middle;\n",
       "    }\n",
       "\n",
       "    .dataframe tbody tr th {\n",
       "        vertical-align: top;\n",
       "    }\n",
       "\n",
       "    .dataframe thead th {\n",
       "        text-align: right;\n",
       "    }\n",
       "</style>\n",
       "<table border=\"1\" class=\"dataframe\">\n",
       "  <thead>\n",
       "    <tr style=\"text-align: right;\">\n",
       "      <th></th>\n",
       "      <th>MachineIdentifier</th>\n",
       "      <th>HasDetections0</th>\n",
       "      <th>HasDetections1</th>\n",
       "      <th>HasDetections</th>\n",
       "    </tr>\n",
       "  </thead>\n",
       "  <tbody>\n",
       "    <tr>\n",
       "      <th>0</th>\n",
       "      <td>0000010489e3af074adeac69c53e555e</td>\n",
       "      <td>0.584731</td>\n",
       "      <td>0.653710</td>\n",
       "      <td>0.619221</td>\n",
       "    </tr>\n",
       "    <tr>\n",
       "      <th>1</th>\n",
       "      <td>00000176ac758d54827acd545b6315a5</td>\n",
       "      <td>0.481521</td>\n",
       "      <td>0.773682</td>\n",
       "      <td>0.627601</td>\n",
       "    </tr>\n",
       "    <tr>\n",
       "      <th>2</th>\n",
       "      <td>0000019dcefc128c2d4387c1273dae1d</td>\n",
       "      <td>0.569668</td>\n",
       "      <td>0.602568</td>\n",
       "      <td>0.586118</td>\n",
       "    </tr>\n",
       "    <tr>\n",
       "      <th>3</th>\n",
       "      <td>0000055553dc51b1295785415f1a224d</td>\n",
       "      <td>0.362998</td>\n",
       "      <td>0.348668</td>\n",
       "      <td>0.355833</td>\n",
       "    </tr>\n",
       "    <tr>\n",
       "      <th>4</th>\n",
       "      <td>00000574cefffeca83ec8adf9285b2bf</td>\n",
       "      <td>0.418348</td>\n",
       "      <td>0.570125</td>\n",
       "      <td>0.494236</td>\n",
       "    </tr>\n",
       "  </tbody>\n",
       "</table>\n",
       "</div>"
      ],
      "text/plain": [
       "                  MachineIdentifier  HasDetections0  HasDetections1  \\\n",
       "0  0000010489e3af074adeac69c53e555e        0.584731        0.653710   \n",
       "1  00000176ac758d54827acd545b6315a5        0.481521        0.773682   \n",
       "2  0000019dcefc128c2d4387c1273dae1d        0.569668        0.602568   \n",
       "3  0000055553dc51b1295785415f1a224d        0.362998        0.348668   \n",
       "4  00000574cefffeca83ec8adf9285b2bf        0.418348        0.570125   \n",
       "\n",
       "   HasDetections  \n",
       "0       0.619221  \n",
       "1       0.627601  \n",
       "2       0.586118  \n",
       "3       0.355833  \n",
       "4       0.494236  "
      ]
     },
     "execution_count": 18,
     "metadata": {},
     "output_type": "execute_result"
    }
   ],
   "source": [
    "df_base.head()"
   ]
  },
  {
   "cell_type": "code",
   "execution_count": 11,
   "metadata": {},
   "outputs": [
    {
     "data": {
      "text/plain": [
       "array([[<matplotlib.axes._subplots.AxesSubplot object at 0x1a21f5f860>,\n",
       "        <matplotlib.axes._subplots.AxesSubplot object at 0x1af91d8a58>],\n",
       "       [<matplotlib.axes._subplots.AxesSubplot object at 0x1ad0cc4128>,\n",
       "        <matplotlib.axes._subplots.AxesSubplot object at 0x1ad0ce97b8>]],\n",
       "      dtype=object)"
      ]
     },
     "execution_count": 11,
     "metadata": {},
     "output_type": "execute_result"
    },
    {
     "data": {
      "image/png": "[encoded data removed]",
      "text/plain": [
       "<Figure size 432x288 with 4 Axes>"
      ]
     },
     "metadata": {
      "needs_background": "light"
     },
     "output_type": "display_data"
    }
   ],
   "source": [
    "df_base.hist()"
   ]
  },
  {
   "cell_type": "code",
   "execution_count": 7,
   "metadata": {},
   "outputs": [
    {
     "data": {
      "text/html": [
       "<div>\n",
       "<style scoped>\n",
       "    .dataframe tbody tr th:only-of-type {\n",
       "        vertical-align: middle;\n",
       "    }\n",
       "\n",
       "    .dataframe tbody tr th {\n",
       "        vertical-align: top;\n",
       "    }\n",
       "\n",
       "    .dataframe thead th {\n",
       "        text-align: right;\n",
       "    }\n",
       "</style>\n",
       "<table border=\"1\" class=\"dataframe\">\n",
       "  <thead>\n",
       "    <tr style=\"text-align: right;\">\n",
       "      <th></th>\n",
       "      <th>HasDetections0</th>\n",
       "      <th>HasDetections1</th>\n",
       "      <th>HasDetections2</th>\n",
       "    </tr>\n",
       "  </thead>\n",
       "  <tbody>\n",
       "    <tr>\n",
       "      <th>count</th>\n",
       "      <td>7.853253e+06</td>\n",
       "      <td>7.853253e+06</td>\n",
       "      <td>7.853253e+06</td>\n",
       "    </tr>\n",
       "    <tr>\n",
       "      <th>mean</th>\n",
       "      <td>4.364812e-01</td>\n",
       "      <td>5.000001e-01</td>\n",
       "      <td>4.507803e-01</td>\n",
       "    </tr>\n",
       "    <tr>\n",
       "      <th>std</th>\n",
       "      <td>1.687339e-01</td>\n",
       "      <td>2.726516e-01</td>\n",
       "      <td>1.702056e-01</td>\n",
       "    </tr>\n",
       "    <tr>\n",
       "      <th>min</th>\n",
       "      <td>1.130194e-03</td>\n",
       "      <td>5.942336e-07</td>\n",
       "      <td>6.797791e-04</td>\n",
       "    </tr>\n",
       "    <tr>\n",
       "      <th>25%</th>\n",
       "      <td>3.215939e-01</td>\n",
       "      <td>2.740076e-01</td>\n",
       "      <td>3.331684e-01</td>\n",
       "    </tr>\n",
       "    <tr>\n",
       "      <th>50%</th>\n",
       "      <td>4.306175e-01</td>\n",
       "      <td>5.013928e-01</td>\n",
       "      <td>4.487227e-01</td>\n",
       "    </tr>\n",
       "    <tr>\n",
       "      <th>75%</th>\n",
       "      <td>5.346992e-01</td>\n",
       "      <td>7.234052e-01</td>\n",
       "      <td>5.566242e-01</td>\n",
       "    </tr>\n",
       "    <tr>\n",
       "      <th>max</th>\n",
       "      <td>9.936924e-01</td>\n",
       "      <td>9.999974e-01</td>\n",
       "      <td>9.932907e-01</td>\n",
       "    </tr>\n",
       "  </tbody>\n",
       "</table>\n",
       "</div>"
      ],
      "text/plain": [
       "       HasDetections0  HasDetections1  HasDetections2\n",
       "count    7.853253e+06    7.853253e+06    7.853253e+06\n",
       "mean     4.364812e-01    5.000001e-01    4.507803e-01\n",
       "std      1.687339e-01    2.726516e-01    1.702056e-01\n",
       "min      1.130194e-03    5.942336e-07    6.797791e-04\n",
       "25%      3.215939e-01    2.740076e-01    3.331684e-01\n",
       "50%      4.306175e-01    5.013928e-01    4.487227e-01\n",
       "75%      5.346992e-01    7.234052e-01    5.566242e-01\n",
       "max      9.936924e-01    9.999974e-01    9.932907e-01"
      ]
     },
     "execution_count": 7,
     "metadata": {},
     "output_type": "execute_result"
    }
   ],
   "source": [
    "df_base.describe()"
   ]
  },
  {
   "cell_type": "code",
   "execution_count": 22,
   "metadata": {},
   "outputs": [],
   "source": [
    "delta=0.5-df_base.HasDetections.mean()"
   ]
  },
  {
   "cell_type": "code",
   "execution_count": 23,
   "metadata": {},
   "outputs": [
    {
     "data": {
      "text/plain": [
       "0.03961743302083376"
      ]
     },
     "execution_count": 23,
     "metadata": {},
     "output_type": "execute_result"
    }
   ],
   "source": [
    "delta"
   ]
  },
  {
   "cell_type": "code",
   "execution_count": null,
   "metadata": {},
   "outputs": [],
   "source": []
  }
 ],
 "metadata": {
  "kernelspec": {
   "display_name": "Python 3",
   "language": "python",
   "name": "python3"
  },
  "language_info": {
   "codemirror_mode": {
    "name": "ipython",
    "version": 3
   },
   "file_extension": ".py",
   "mimetype": "text/x-python",
   "name": "python",
   "nbconvert_exporter": "python",
   "pygments_lexer": "ipython3",
   "version": "3.7.2"
  }
 },
 "nbformat": 4,
 "nbformat_minor": 2
}
