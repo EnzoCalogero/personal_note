{
 "cells": [
  {
   "cell_type": "markdown",
   "metadata": {
    "_uuid": "ea005def562ae65202ec9322bec60fd25a1961e1"
   },
   "source": [
    "\n",
    "<a id=\"1\"></a> <br>\n",
    "## 2. Loading the data"
   ]
  },
  {
   "cell_type": "code",
   "execution_count": 1,
   "metadata": {},
   "outputs": [
    {
     "name": "stderr",
     "output_type": "stream",
     "text": [
      "/Users/Enzo.Calogero/anaconda3/envs/fastai-cpu/lib/python3.6/site-packages/lightgbm/__init__.py:46: UserWarning: Starting from version 2.2.1, the library file in distribution wheels for macOS is built by the Apple Clang (Xcode_9.4.1) compiler.\n",
      "This means that in case of installing LightGBM from PyPI via the ``pip install lightgbm`` command, you don't need to install the gcc compiler anymore.\n",
      "Instead of that, you need to install the OpenMP library, which is required for running LightGBM on the system with the Apple Clang compiler.\n",
      "You can install the OpenMP library by the following command: ``brew install libomp``.\n",
      "  \"You can install the OpenMP library by the following command: ``brew install libomp``.\", UserWarning)\n"
     ]
    }
   ],
   "source": [
    "import numpy as np \n",
    "import pandas as pd \n",
    "import matplotlib.pyplot as plt\n",
    "import seaborn as sns\n",
    "import lightgbm as lgb\n",
    "from sklearn.model_selection import KFold\n",
    "import warnings\n",
    "import gc\n",
    "import time\n",
    "import sys\n",
    "import datetime\n",
    "import matplotlib.pyplot as plt\n",
    "import seaborn as sns\n",
    "from sklearn.metrics import mean_squared_error\n",
    "warnings.simplefilter(action='ignore', category=FutureWarning)\n",
    "from sklearn import metrics\n",
    "import time, datetime\n",
    "from sklearn import *\n",
    "pd.set_option('display.max_columns', 500)"
   ]
  },
  {
   "cell_type": "code",
   "execution_count": 2,
   "metadata": {},
   "outputs": [],
   "source": [
    "import feather\n",
    "#test =feather.read_dataframe('tmp/microsoftv3_4_test')\n",
    "\n",
    "#train =feather.read_dataframe('tmp/microsoft_train_prep_v1_2m')\n",
    "#train =feather.read_dataframe('tmp/microsoft_train_prep_v2_2m')\n",
    "                              #tmp/microsoft_train_prep_v1_full')\n",
    "train =feather.read_dataframe('tmp/microsoft_train_prep_v2_fullb')\n",
    "    #'tmp/trainwithdata')"
   ]
  },
  {
   "cell_type": "code",
   "execution_count": 3,
   "metadata": {},
   "outputs": [],
   "source": [
    "\n",
    "#test =feather.read_dataframe('tmp/microsoftv3_train')#\n",
    "#test =feather.read_dataframe('tmp/microsoft_test_prep_v2_2m')\n",
    "    #'tmp/microsoft_test_prep_v1_full')  #'tmp/microsoftv3_train'\n",
    "#train.info()\n",
    "test =feather.read_dataframe('tmp/microsoft_test_prep_v2_fullb')"
   ]
  },
  {
   "cell_type": "code",
   "execution_count": 4,
   "metadata": {},
   "outputs": [
    {
     "data": {
      "text/plain": [
       "(7853253, 90)"
      ]
     },
     "execution_count": 4,
     "metadata": {},
     "output_type": "execute_result"
    }
   ],
   "source": [
    "test.shape"
   ]
  },
  {
   "cell_type": "code",
   "execution_count": 5,
   "metadata": {},
   "outputs": [
    {
     "data": {
      "text/plain": [
       "(8921482, 90)"
      ]
     },
     "execution_count": 5,
     "metadata": {},
     "output_type": "execute_result"
    }
   ],
   "source": [
    "train.shape"
   ]
  },
  {
   "cell_type": "code",
   "execution_count": 6,
   "metadata": {},
   "outputs": [],
   "source": [
    "target = train['HasDetections']\n",
    "del train['HasDetections']"
   ]
  },
  {
   "cell_type": "code",
   "execution_count": 7,
   "metadata": {},
   "outputs": [],
   "source": [
    "train['third']=train['third'].astype('category')\n",
    "train['fourth']=train['fourth'].astype('category')\n",
    "test['third']=test['third'].astype('category')\n",
    "test['fourth']=test['fourth'].astype('category')"
   ]
  },
  {
   "cell_type": "code",
   "execution_count": 8,
   "metadata": {},
   "outputs": [],
   "source": [
    "remove_variables=['Census_ActivationChannel',\n",
    " 'Census_FlightRing',\n",
    " 'Census_OSEdition',\n",
    " 'Census_PowerPlatformRoleName',\n",
    " 'Census_GenuineStateName',\n",
    " 'Census_OSSkuName',\n",
    " 'Census_OSBranch',\n",
    " 'Census_OSVersion',\n",
    " 'Census_InternalBatteryType',\n",
    " 'ProductName',\n",
    " 'Census_ChassisTypeName',\n",
    " 'Census_OSArchitecture',\n",
    " 'Census_OSInstallTypeName',\n",
    " 'Census_OSWUAutoUpdateOptionsName']"
   ]
  },
  {
   "cell_type": "code",
   "execution_count": 9,
   "metadata": {},
   "outputs": [
    {
     "name": "stdout",
     "output_type": "stream",
     "text": [
      "89\n",
      "75\n"
     ]
    }
   ],
   "source": [
    "print(len(train.columns))\n",
    "train=train.drop(remove_variables, axis=1)\n",
    "print(len(train.columns))"
   ]
  },
  {
   "cell_type": "code",
   "execution_count": 10,
   "metadata": {},
   "outputs": [
    {
     "name": "stdout",
     "output_type": "stream",
     "text": [
      "90\n",
      "76\n"
     ]
    }
   ],
   "source": [
    "print(len(test.columns))\n",
    "test=test.drop(remove_variables, axis=1)\n",
    "print(len(test.columns))"
   ]
  },
  {
   "cell_type": "code",
   "execution_count": null,
   "metadata": {},
   "outputs": [],
   "source": [
    "for sub sampling\n",
    "print(train.shape)\n",
    "train=train.sample(frac=0.2, replace=False)\n",
    "print(train.shape)"
   ]
  },
  {
   "cell_type": "markdown",
   "metadata": {
    "_uuid": "b91db8b5c98da4f014f1863ba7de18e241f517c6"
   },
   "source": [
    "<a id=\"3\"></a> <br>\n",
    "## 3. Training the model"
   ]
  },
  {
   "cell_type": "markdown",
   "metadata": {
    "_uuid": "7ab8ef627687c7602b81a9ac83f90ff3a2094d0c"
   },
   "source": [
    "We set the max number of iteration over folds:"
   ]
  },
  {
   "cell_type": "code",
   "execution_count": 11,
   "metadata": {
    "_uuid": "9f306e20ae748715da17a2f15702ea1aa4d81497"
   },
   "outputs": [
    {
     "data": {
      "text/plain": [
       "(8921482, 75)"
      ]
     },
     "execution_count": 11,
     "metadata": {},
     "output_type": "execute_result"
    }
   ],
   "source": [
    "\n",
    "train.shape"
   ]
  },
  {
   "cell_type": "code",
   "execution_count": 12,
   "metadata": {},
   "outputs": [
    {
     "name": "stderr",
     "output_type": "stream",
     "text": [
      "/Users/Enzo.Calogero/anaconda3/envs/fastai-cpu/lib/python3.6/site-packages/lightgbm/basic.py:742: UserWarning: categorical_feature in param dict is overridden.\n",
      "  warnings.warn('categorical_feature in param dict is overridden.')\n"
     ]
    },
    {
     "name": "stdout",
     "output_type": "stream",
     "text": [
      "Training until validation scores don't improve for 200 rounds.\n",
      "[100]\tvalid_0's auc: 0.712168\n",
      "[200]\tvalid_0's auc: 0.720272\n",
      "[300]\tvalid_0's auc: 0.724318\n",
      "[400]\tvalid_0's auc: 0.726674\n",
      "[500]\tvalid_0's auc: 0.72826\n",
      "[600]\tvalid_0's auc: 0.729368\n",
      "[700]\tvalid_0's auc: 0.730199\n",
      "[800]\tvalid_0's auc: 0.730863\n",
      "[900]\tvalid_0's auc: 0.731459\n",
      "[1000]\tvalid_0's auc: 0.732019\n",
      "[1100]\tvalid_0's auc: 0.732506\n",
      "[1200]\tvalid_0's auc: 0.732852\n",
      "[1300]\tvalid_0's auc: 0.733235\n",
      "[1400]\tvalid_0's auc: 0.733611\n",
      "[1500]\tvalid_0's auc: 0.733902\n",
      "[1600]\tvalid_0's auc: 0.734147\n",
      "[1700]\tvalid_0's auc: 0.73438\n",
      "[1800]\tvalid_0's auc: 0.734595\n",
      "[1900]\tvalid_0's auc: 0.734793\n",
      "[2000]\tvalid_0's auc: 0.735005\n",
      "[2100]\tvalid_0's auc: 0.735178\n",
      "[2200]\tvalid_0's auc: 0.735358\n",
      "[2300]\tvalid_0's auc: 0.735476\n",
      "[2400]\tvalid_0's auc: 0.735628\n",
      "[2500]\tvalid_0's auc: 0.735746\n",
      "[2600]\tvalid_0's auc: 0.735901\n",
      "[2700]\tvalid_0's auc: 0.736027\n",
      "[2800]\tvalid_0's auc: 0.736143\n",
      "[2900]\tvalid_0's auc: 0.736254\n",
      "[3000]\tvalid_0's auc: 0.73634\n",
      "[3100]\tvalid_0's auc: 0.736434\n",
      "[3200]\tvalid_0's auc: 0.736518\n",
      "[3300]\tvalid_0's auc: 0.736631\n",
      "[3400]\tvalid_0's auc: 0.736716\n",
      "[3500]\tvalid_0's auc: 0.736785\n",
      "[3600]\tvalid_0's auc: 0.736867\n",
      "[3700]\tvalid_0's auc: 0.736929\n",
      "[3800]\tvalid_0's auc: 0.737001\n",
      "[3900]\tvalid_0's auc: 0.737068\n",
      "[4000]\tvalid_0's auc: 0.737134\n",
      "[4100]\tvalid_0's auc: 0.737195\n",
      "[4200]\tvalid_0's auc: 0.737253\n",
      "[4300]\tvalid_0's auc: 0.737305\n",
      "[4400]\tvalid_0's auc: 0.737365\n",
      "[4500]\tvalid_0's auc: 0.737411\n",
      "[4600]\tvalid_0's auc: 0.737461\n",
      "[4700]\tvalid_0's auc: 0.737511\n",
      "[4800]\tvalid_0's auc: 0.73756\n",
      "[4900]\tvalid_0's auc: 0.737616\n",
      "[5000]\tvalid_0's auc: 0.737656\n",
      "[5100]\tvalid_0's auc: 0.737703\n",
      "[5200]\tvalid_0's auc: 0.737749\n",
      "[5300]\tvalid_0's auc: 0.7378\n",
      "[5400]\tvalid_0's auc: 0.737836\n",
      "[5500]\tvalid_0's auc: 0.737862\n",
      "[5600]\tvalid_0's auc: 0.737897\n",
      "[5700]\tvalid_0's auc: 0.73792\n",
      "[5800]\tvalid_0's auc: 0.737965\n",
      "[5900]\tvalid_0's auc: 0.737986\n",
      "[6000]\tvalid_0's auc: 0.738013\n",
      "[6100]\tvalid_0's auc: 0.73804\n",
      "[6200]\tvalid_0's auc: 0.738068\n",
      "[6300]\tvalid_0's auc: 0.738099\n",
      "[6400]\tvalid_0's auc: 0.738128\n",
      "[6500]\tvalid_0's auc: 0.738152\n",
      "[6600]\tvalid_0's auc: 0.738167\n",
      "[6700]\tvalid_0's auc: 0.738192\n",
      "[6800]\tvalid_0's auc: 0.738222\n",
      "[6900]\tvalid_0's auc: 0.738235\n",
      "[7000]\tvalid_0's auc: 0.738249\n",
      "[7100]\tvalid_0's auc: 0.738282\n",
      "[7200]\tvalid_0's auc: 0.738305\n",
      "[7300]\tvalid_0's auc: 0.738329\n",
      "[7400]\tvalid_0's auc: 0.738349\n",
      "[7500]\tvalid_0's auc: 0.73837\n",
      "[7600]\tvalid_0's auc: 0.738395\n",
      "[7700]\tvalid_0's auc: 0.738414\n",
      "[7800]\tvalid_0's auc: 0.738447\n",
      "[7900]\tvalid_0's auc: 0.738466\n",
      "[8000]\tvalid_0's auc: 0.738479\n",
      "[8100]\tvalid_0's auc: 0.738497\n",
      "[8200]\tvalid_0's auc: 0.738523\n",
      "[8300]\tvalid_0's auc: 0.738544\n",
      "[8400]\tvalid_0's auc: 0.738554\n",
      "[8500]\tvalid_0's auc: 0.738571\n",
      "[8600]\tvalid_0's auc: 0.738582\n",
      "[8700]\tvalid_0's auc: 0.738593\n",
      "[8800]\tvalid_0's auc: 0.738605\n",
      "[8900]\tvalid_0's auc: 0.738629\n",
      "[9000]\tvalid_0's auc: 0.738648\n",
      "[9100]\tvalid_0's auc: 0.738662\n",
      "[9200]\tvalid_0's auc: 0.738676\n",
      "[9300]\tvalid_0's auc: 0.738688\n",
      "[9400]\tvalid_0's auc: 0.738707\n",
      "[9500]\tvalid_0's auc: 0.738724\n",
      "[9600]\tvalid_0's auc: 0.738729\n",
      "[9700]\tvalid_0's auc: 0.738739\n",
      "[9800]\tvalid_0's auc: 0.738761\n",
      "[9900]\tvalid_0's auc: 0.738769\n",
      "[10000]\tvalid_0's auc: 0.738772\n",
      "Did not meet early stopping. Best iteration is:\n",
      "[9946]\tvalid_0's auc: 0.738777\n",
      "[0.738776942015682]\n"
     ]
    }
   ],
   "source": [
    "\n",
    "param = {'objective':'binary',\n",
    "          \"boosting\": \"gbdt\",\n",
    "          'learning_rate': 0.05, #################################\n",
    "          'max_depth': -1, \n",
    "          \"feature_fraction\": 0.8,\n",
    "          \"bagging_freq\": 1,\n",
    "          \"bagging_fraction\": 0.8 ,\n",
    "          \"bagging_seed\": 11,\n",
    "          \"metric\": 'auc',\n",
    "           \"lambda_l1\": 0.1,\n",
    "          'num_leaves': 60,\n",
    "          'min_data_in_leaf': 60,\n",
    "          \"verbosity\": -1,\n",
    "          \"random_state\": 3}\n",
    "auc=list()\n",
    "for i in [1]:\n",
    "    x1, x2, y1, y2 = model_selection.train_test_split(train, target, test_size=0.2)#, random_state=25)\n",
    "    num_round = 10000\n",
    "    model = lgb.train(param,\n",
    "                      lgb.Dataset(x1, y1), #categorical_feature = categorical_features),\n",
    "                      num_round,\n",
    "                      lgb.Dataset(x2, y2), #categorical_feature = categorical_features),\n",
    "                      verbose_eval=100,\n",
    "                      early_stopping_rounds=200)\n",
    "    auc.append(model.best_score['valid_0']['auc'])\n",
    "print(auc)    \n",
    "#best 120,40 .7365\n",
    "# 120,60 .7354\n",
    "# 120,100 .7349\n",
    "# 100, 100 .7343\n",
    "# 100,60 .7340\n",
    "# 120,30 .7337"
   ]
  },
  {
   "cell_type": "markdown",
   "metadata": {
    "_uuid": "08a4c881ae24d784e9ee3c197d1188e26fdb40c7"
   },
   "source": [
    "<a id=\"5\"></a> <br>\n",
    "## 5. Submission"
   ]
  },
  {
   "cell_type": "code",
   "execution_count": 13,
   "metadata": {},
   "outputs": [],
   "source": [
    "features=train.columns"
   ]
  },
  {
   "cell_type": "code",
   "execution_count": 14,
   "metadata": {},
   "outputs": [
    {
     "data": {
      "text/plain": [
       "(8921482, 75)"
      ]
     },
     "execution_count": 14,
     "metadata": {},
     "output_type": "execute_result"
    }
   ],
   "source": [
    "train.shape"
   ]
  },
  {
   "cell_type": "code",
   "execution_count": 15,
   "metadata": {},
   "outputs": [],
   "source": [
    "predictions = model.predict(test[features], num_iteration=model.best_iteration)"
   ]
  },
  {
   "cell_type": "code",
   "execution_count": 16,
   "metadata": {
    "_uuid": "1fe8a68970387c8e57d373b4d0944731a32ccd51"
   },
   "outputs": [
    {
     "data": {
      "text/html": [
       "<div>\n",
       "<style scoped>\n",
       "    .dataframe tbody tr th:only-of-type {\n",
       "        vertical-align: middle;\n",
       "    }\n",
       "\n",
       "    .dataframe tbody tr th {\n",
       "        vertical-align: top;\n",
       "    }\n",
       "\n",
       "    .dataframe thead th {\n",
       "        text-align: right;\n",
       "    }\n",
       "</style>\n",
       "<table border=\"1\" class=\"dataframe\">\n",
       "  <thead>\n",
       "    <tr style=\"text-align: right;\">\n",
       "      <th></th>\n",
       "      <th>MachineIdentifier</th>\n",
       "      <th>HasDetections</th>\n",
       "    </tr>\n",
       "  </thead>\n",
       "  <tbody>\n",
       "    <tr>\n",
       "      <th>0</th>\n",
       "      <td>0000010489e3af074adeac69c53e555e</td>\n",
       "      <td>0.589403</td>\n",
       "    </tr>\n",
       "    <tr>\n",
       "      <th>1</th>\n",
       "      <td>00000176ac758d54827acd545b6315a5</td>\n",
       "      <td>0.488962</td>\n",
       "    </tr>\n",
       "    <tr>\n",
       "      <th>2</th>\n",
       "      <td>0000019dcefc128c2d4387c1273dae1d</td>\n",
       "      <td>0.545205</td>\n",
       "    </tr>\n",
       "    <tr>\n",
       "      <th>3</th>\n",
       "      <td>0000055553dc51b1295785415f1a224d</td>\n",
       "      <td>0.268734</td>\n",
       "    </tr>\n",
       "    <tr>\n",
       "      <th>4</th>\n",
       "      <td>00000574cefffeca83ec8adf9285b2bf</td>\n",
       "      <td>0.529691</td>\n",
       "    </tr>\n",
       "    <tr>\n",
       "      <th>5</th>\n",
       "      <td>000007ffedd31948f08e6c16da31f6d1</td>\n",
       "      <td>0.475591</td>\n",
       "    </tr>\n",
       "    <tr>\n",
       "      <th>6</th>\n",
       "      <td>000008f31610018d898e5f315cdf1bd1</td>\n",
       "      <td>0.239309</td>\n",
       "    </tr>\n",
       "    <tr>\n",
       "      <th>7</th>\n",
       "      <td>00000a3c447250626dbcc628c9cbc460</td>\n",
       "      <td>0.276702</td>\n",
       "    </tr>\n",
       "    <tr>\n",
       "      <th>8</th>\n",
       "      <td>00000b6bf217ec9aef0f68d5c6705897</td>\n",
       "      <td>0.115197</td>\n",
       "    </tr>\n",
       "    <tr>\n",
       "      <th>9</th>\n",
       "      <td>00000b8d3776b13e93ad83676a28e4aa</td>\n",
       "      <td>0.250862</td>\n",
       "    </tr>\n",
       "  </tbody>\n",
       "</table>\n",
       "</div>"
      ],
      "text/plain": [
       "                  MachineIdentifier  HasDetections\n",
       "0  0000010489e3af074adeac69c53e555e       0.589403\n",
       "1  00000176ac758d54827acd545b6315a5       0.488962\n",
       "2  0000019dcefc128c2d4387c1273dae1d       0.545205\n",
       "3  0000055553dc51b1295785415f1a224d       0.268734\n",
       "4  00000574cefffeca83ec8adf9285b2bf       0.529691\n",
       "5  000007ffedd31948f08e6c16da31f6d1       0.475591\n",
       "6  000008f31610018d898e5f315cdf1bd1       0.239309\n",
       "7  00000a3c447250626dbcc628c9cbc460       0.276702\n",
       "8  00000b6bf217ec9aef0f68d5c6705897       0.115197\n",
       "9  00000b8d3776b13e93ad83676a28e4aa       0.250862"
      ]
     },
     "execution_count": 16,
     "metadata": {},
     "output_type": "execute_result"
    }
   ],
   "source": [
    "sub_df = pd.DataFrame({\"MachineIdentifier\": test[\"MachineIdentifier\"].values})\n",
    "sub_df[\"HasDetections\"] = predictions\n",
    "sub_df[:10]"
   ]
  },
  {
   "cell_type": "code",
   "execution_count": 17,
   "metadata": {
    "_uuid": "65cd74398d3f80186d65a2ff3431403a6846e229"
   },
   "outputs": [],
   "source": [
    "sub_df.to_csv(\"submitVersion2_13.csv\", index=False)"
   ]
  },
  {
   "cell_type": "code",
   "execution_count": null,
   "metadata": {},
   "outputs": [],
   "source": []
  }
 ],
 "metadata": {
  "kernelspec": {
   "display_name": "Python 3",
   "language": "python",
   "name": "python3"
  },
  "language_info": {
   "codemirror_mode": {
    "name": "ipython",
    "version": 3
   },
   "file_extension": ".py",
   "mimetype": "text/x-python",
   "name": "python",
   "nbconvert_exporter": "python",
   "pygments_lexer": "ipython3",
   "version": "3.6.6"
  }
 },
 "nbformat": 4,
 "nbformat_minor": 1
}
