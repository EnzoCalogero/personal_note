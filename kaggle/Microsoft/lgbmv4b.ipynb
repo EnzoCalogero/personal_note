{
 "cells": [
  {
   "cell_type": "markdown",
   "metadata": {
    "_uuid": "ea005def562ae65202ec9322bec60fd25a1961e1"
   },
   "source": [
    "\n",
    "<a id=\"1\"></a> <br>\n",
    "## 2. Loading the data"
   ]
  },
  {
   "cell_type": "code",
   "execution_count": 17,
   "metadata": {},
   "outputs": [],
   "source": [
    "import numpy as np \n",
    "import pandas as pd \n",
    "import matplotlib.pyplot as plt\n",
    "import seaborn as sns\n",
    "import lightgbm as lgb\n",
    "from sklearn.model_selection import KFold\n",
    "import warnings\n",
    "import gc\n",
    "import time\n",
    "import sys\n",
    "import datetime\n",
    "import matplotlib.pyplot as plt\n",
    "import seaborn as sns\n",
    "from sklearn.metrics import mean_squared_error\n",
    "warnings.simplefilter(action='ignore', category=FutureWarning)\n",
    "from sklearn import metrics\n",
    "import time, datetime\n",
    "from sklearn import *\n",
    "pd.set_option('display.max_columns', 500)"
   ]
  },
  {
   "cell_type": "code",
   "execution_count": 18,
   "metadata": {},
   "outputs": [],
   "source": [
    "import feather\n",
    "#test =feather.read_dataframe('tmp/microsoftv3_4_test')\n",
    "\n",
    "#train =feather.read_dataframe('tmp/microsoft_train_prep_v1_2m')\n",
    "#train =feather.read_dataframe('tmp/microsoft_train_prep_v2_2m')\n",
    "                              #tmp/microsoft_train_prep_v1_full')\n",
    "train =feather.read_dataframe('tmp/microsoft_train_prep_v2_fullb')\n",
    "    #'tmp/trainwithdata')"
   ]
  },
  {
   "cell_type": "code",
   "execution_count": 19,
   "metadata": {},
   "outputs": [],
   "source": [
    "\n",
    "#test =feather.read_dataframe('tmp/microsoftv3_train')#\n",
    "#test =feather.read_dataframe('tmp/microsoft_test_prep_v2_2m')\n",
    "    #'tmp/microsoft_test_prep_v1_full')  #'tmp/microsoftv3_train'\n",
    "#train.info()\n",
    "test =feather.read_dataframe('tmp/microsoft_test_prep_v2_fullb')"
   ]
  },
  {
   "cell_type": "code",
   "execution_count": 20,
   "metadata": {},
   "outputs": [
    {
     "data": {
      "text/plain": [
       "(7853253, 90)"
      ]
     },
     "execution_count": 20,
     "metadata": {},
     "output_type": "execute_result"
    }
   ],
   "source": [
    "test.shape"
   ]
  },
  {
   "cell_type": "code",
   "execution_count": 21,
   "metadata": {},
   "outputs": [
    {
     "data": {
      "text/plain": [
       "(8921482, 90)"
      ]
     },
     "execution_count": 21,
     "metadata": {},
     "output_type": "execute_result"
    }
   ],
   "source": [
    "train.shape"
   ]
  },
  {
   "cell_type": "code",
   "execution_count": 22,
   "metadata": {},
   "outputs": [],
   "source": [
    "target = train['HasDetections']\n",
    "del train['HasDetections']"
   ]
  },
  {
   "cell_type": "code",
   "execution_count": 23,
   "metadata": {},
   "outputs": [],
   "source": [
    "train['third']=train['third'].astype('category')\n",
    "train['fourth']=train['fourth'].astype('category')\n",
    "test['third']=test['third'].astype('category')\n",
    "test['fourth']=test['fourth'].astype('category')"
   ]
  },
  {
   "cell_type": "code",
   "execution_count": 24,
   "metadata": {},
   "outputs": [],
   "source": [
    "remove_variables=['Census_ActivationChannel',\n",
    " 'Census_FlightRing',\n",
    "#                  'CityIdentifier',\n",
    " 'Census_OSEdition',\n",
    " 'Census_PowerPlatformRoleName',\n",
    " 'Census_GenuineStateName',\n",
    " 'Census_OSSkuName',\n",
    " 'Census_OSBranch',\n",
    "# 'Census_OSVersion',\n",
    " 'Census_InternalBatteryType',\n",
    " 'ProductName',\n",
    " 'Census_ChassisTypeName',\n",
    " 'Census_OSArchitecture',\n",
    " 'Census_OSInstallTypeName',\n",
    " 'Census_OSWUAutoUpdateOptionsName']\n"
   ]
  },
  {
   "cell_type": "code",
   "execution_count": 12,
   "metadata": {},
   "outputs": [
    {
     "data": {
      "text/plain": [
       "Index(['ProductName', 'EngineVersion', 'AppVersion', 'AvSigVersion', 'IsBeta',\n",
       "       'RtpStateBitfield', 'IsSxsPassiveMode', 'DefaultBrowsersIdentifier',\n",
       "       'AVProductStatesIdentifier', 'AVProductsInstalled', 'AVProductsEnabled',\n",
       "       'HasTpm', 'CountryIdentifier', 'CityIdentifier',\n",
       "       'OrganizationIdentifier', 'GeoNameIdentifier',\n",
       "       'LocaleEnglishNameIdentifier', 'Platform', 'Processor', 'OsVer',\n",
       "       'OsBuild', 'OsSuite', 'OsPlatformSubRelease', 'OsBuildLab',\n",
       "       'SkuEdition', 'IsProtected', 'AutoSampleOptIn', 'PuaMode', 'SMode',\n",
       "       'IeVerIdentifier', 'SmartScreen', 'Firewall', 'UacLuaenable',\n",
       "       'Census_MDC2FormFactor', 'Census_DeviceFamily',\n",
       "       'Census_OEMNameIdentifier', 'Census_OEMModelIdentifier',\n",
       "       'Census_ProcessorCoreCount', 'Census_ProcessorManufacturerIdentifier',\n",
       "       'Census_ProcessorModelIdentifier', 'Census_ProcessorClass',\n",
       "       'Census_PrimaryDiskTotalCapacity', 'Census_PrimaryDiskTypeName',\n",
       "       'Census_SystemVolumeTotalCapacity', 'Census_HasOpticalDiskDrive',\n",
       "       'Census_TotalPhysicalRAM', 'Census_ChassisTypeName',\n",
       "       'Census_InternalPrimaryDiagonalDisplaySizeInInches',\n",
       "       'Census_InternalPrimaryDisplayResolutionHorizontal',\n",
       "       'Census_InternalPrimaryDisplayResolutionVertical',\n",
       "       'Census_PowerPlatformRoleName', 'Census_InternalBatteryType',\n",
       "       'Census_InternalBatteryNumberOfCharges', 'Census_OSVersion',\n",
       "       'Census_OSArchitecture', 'Census_OSBranch', 'Census_OSBuildNumber',\n",
       "       'Census_OSBuildRevision', 'Census_OSEdition', 'Census_OSSkuName',\n",
       "       'Census_OSInstallTypeName', 'Census_OSInstallLanguageIdentifier',\n",
       "       'Census_OSUILocaleIdentifier', 'Census_OSWUAutoUpdateOptionsName',\n",
       "       'Census_IsPortableOperatingSystem', 'Census_GenuineStateName',\n",
       "       'Census_ActivationChannel', 'Census_IsFlightingInternal',\n",
       "       'Census_IsFlightsDisabled', 'Census_FlightRing',\n",
       "       'Census_ThresholdOptIn', 'Census_FirmwareManufacturerIdentifier',\n",
       "       'Census_FirmwareVersionIdentifier', 'Census_IsSecureBootEnabled',\n",
       "       'Census_IsWIMBootEnabled', 'Census_IsVirtualDevice',\n",
       "       'Census_IsTouchEnabled', 'Census_IsPenCapable',\n",
       "       'Census_IsAlwaysOnAlwaysConnectedCapable', 'Wdft_IsGamer',\n",
       "       'Wdft_RegionIdentifier', 'enzoEngine', 'Enzoapp', 'Enzosign', 'first',\n",
       "       'second', 'third', 'fourth', 'fifth'],\n",
       "      dtype='object')"
      ]
     },
     "execution_count": 12,
     "metadata": {},
     "output_type": "execute_result"
    }
   ],
   "source": [
    "train.columns\n",
    "to be tested:\n",
    "param = {'numleaves': 200, 'mindatainleaf': 60, \n",
    "'objective':'binary',\n",
    "'maxdepth': -1, 'learningrate': 0.1,\n",
    "\"boosting\": \"gbdt\",\n",
    "\"featurefraction\": 0.8, \"baggingfreq\": 1,\n",
    "\"baggingfraction\": 0.8, \"baggingseed\": 11,\n",
    "\"metric\": 'auc',\n",
    "\"lambdal1\": 0.1, \"randomstate\": 7,\n",
    "\"verbosity\": -1,\n",
    "\"n_jobs\":-1}"
   ]
  },
  {
   "cell_type": "code",
   "execution_count": 25,
   "metadata": {},
   "outputs": [
    {
     "name": "stdout",
     "output_type": "stream",
     "text": [
      "89\n",
      "76\n"
     ]
    }
   ],
   "source": [
    "print(len(train.columns))\n",
    "train=train.drop(remove_variables, axis=1)\n",
    "print(len(train.columns))"
   ]
  },
  {
   "cell_type": "code",
   "execution_count": 26,
   "metadata": {},
   "outputs": [
    {
     "name": "stdout",
     "output_type": "stream",
     "text": [
      "90\n",
      "77\n"
     ]
    }
   ],
   "source": [
    "print(len(test.columns))\n",
    "test=test.drop(remove_variables, axis=1)\n",
    "print(len(test.columns))"
   ]
  },
  {
   "cell_type": "code",
   "execution_count": null,
   "metadata": {},
   "outputs": [],
   "source": [
    "for sub sampling\n",
    "print(train.shape)\n",
    "train=train.sample(frac=0.2, replace=False)\n",
    "print(train.shape)"
   ]
  },
  {
   "cell_type": "markdown",
   "metadata": {
    "_uuid": "b91db8b5c98da4f014f1863ba7de18e241f517c6"
   },
   "source": [
    "<a id=\"3\"></a> <br>\n",
    "## 3. Training the model"
   ]
  },
  {
   "cell_type": "markdown",
   "metadata": {
    "_uuid": "7ab8ef627687c7602b81a9ac83f90ff3a2094d0c"
   },
   "source": [
    "We set the max number of iteration over folds:"
   ]
  },
  {
   "cell_type": "code",
   "execution_count": 15,
   "metadata": {
    "_uuid": "9f306e20ae748715da17a2f15702ea1aa4d81497"
   },
   "outputs": [
    {
     "data": {
      "text/plain": [
       "(8921482, 74)"
      ]
     },
     "execution_count": 15,
     "metadata": {},
     "output_type": "execute_result"
    }
   ],
   "source": [
    "\n",
    "train.shape"
   ]
  },
  {
   "cell_type": "code",
   "execution_count": 27,
   "metadata": {
    "scrolled": true
   },
   "outputs": [
    {
     "name": "stderr",
     "output_type": "stream",
     "text": [
      "/Users/Enzo.Calogero/anaconda3/envs/fastai-cpu/lib/python3.6/site-packages/lightgbm/basic.py:742: UserWarning: categorical_feature in param dict is overridden.\n",
      "  warnings.warn('categorical_feature in param dict is overridden.')\n"
     ]
    },
    {
     "name": "stdout",
     "output_type": "stream",
     "text": [
      "Training until validation scores don't improve for 200 rounds.\n",
      "[100]\tvalid_0's auc: 0.715047\n",
      "[200]\tvalid_0's auc: 0.721757\n",
      "[300]\tvalid_0's auc: 0.724848\n",
      "[400]\tvalid_0's auc: 0.726679\n",
      "[500]\tvalid_0's auc: 0.728258\n",
      "[600]\tvalid_0's auc: 0.729318\n",
      "[700]\tvalid_0's auc: 0.730324\n",
      "[800]\tvalid_0's auc: 0.731054\n",
      "[900]\tvalid_0's auc: 0.731577\n",
      "[1000]\tvalid_0's auc: 0.732137\n",
      "[1100]\tvalid_0's auc: 0.732641\n",
      "[1200]\tvalid_0's auc: 0.733068\n",
      "[1300]\tvalid_0's auc: 0.733359\n",
      "[1400]\tvalid_0's auc: 0.733665\n",
      "[1500]\tvalid_0's auc: 0.733998\n",
      "[1600]\tvalid_0's auc: 0.734251\n",
      "[1700]\tvalid_0's auc: 0.734408\n",
      "[1800]\tvalid_0's auc: 0.734653\n",
      "[1900]\tvalid_0's auc: 0.734839\n",
      "[2000]\tvalid_0's auc: 0.73494\n",
      "[2100]\tvalid_0's auc: 0.735156\n",
      "[2200]\tvalid_0's auc: 0.73531\n",
      "[2300]\tvalid_0's auc: 0.735437\n",
      "[2400]\tvalid_0's auc: 0.735559\n",
      "[2500]\tvalid_0's auc: 0.735701\n",
      "[2600]\tvalid_0's auc: 0.735828\n",
      "[2700]\tvalid_0's auc: 0.735922\n",
      "[2800]\tvalid_0's auc: 0.736014\n",
      "[2900]\tvalid_0's auc: 0.73609\n",
      "[3000]\tvalid_0's auc: 0.736172\n",
      "[3100]\tvalid_0's auc: 0.736253\n",
      "[3200]\tvalid_0's auc: 0.736348\n",
      "[3300]\tvalid_0's auc: 0.736405\n",
      "[3400]\tvalid_0's auc: 0.73648\n",
      "[3500]\tvalid_0's auc: 0.736551\n",
      "[3600]\tvalid_0's auc: 0.736612\n",
      "[3700]\tvalid_0's auc: 0.736674\n",
      "[3800]\tvalid_0's auc: 0.736751\n",
      "[3900]\tvalid_0's auc: 0.736805\n",
      "[4000]\tvalid_0's auc: 0.736857\n",
      "[4100]\tvalid_0's auc: 0.736903\n",
      "[4200]\tvalid_0's auc: 0.73694\n",
      "[4300]\tvalid_0's auc: 0.737001\n",
      "[4400]\tvalid_0's auc: 0.737028\n",
      "[4500]\tvalid_0's auc: 0.737058\n",
      "[4600]\tvalid_0's auc: 0.737089\n",
      "[4700]\tvalid_0's auc: 0.737157\n",
      "[4800]\tvalid_0's auc: 0.737195\n",
      "[4900]\tvalid_0's auc: 0.737239\n",
      "[5000]\tvalid_0's auc: 0.737245\n",
      "[5100]\tvalid_0's auc: 0.73727\n",
      "[5200]\tvalid_0's auc: 0.737305\n",
      "[5300]\tvalid_0's auc: 0.737359\n",
      "[5400]\tvalid_0's auc: 0.737392\n",
      "[5500]\tvalid_0's auc: 0.737415\n",
      "[5600]\tvalid_0's auc: 0.737455\n",
      "[5700]\tvalid_0's auc: 0.737483\n",
      "[5800]\tvalid_0's auc: 0.737493\n",
      "[5900]\tvalid_0's auc: 0.7375\n",
      "[6000]\tvalid_0's auc: 0.737519\n",
      "[6100]\tvalid_0's auc: 0.737554\n",
      "[6200]\tvalid_0's auc: 0.737589\n",
      "[6300]\tvalid_0's auc: 0.737619\n",
      "[6400]\tvalid_0's auc: 0.737635\n",
      "[6500]\tvalid_0's auc: 0.737662\n",
      "[6600]\tvalid_0's auc: 0.737675\n",
      "[6700]\tvalid_0's auc: 0.737694\n",
      "[6800]\tvalid_0's auc: 0.737726\n",
      "[6900]\tvalid_0's auc: 0.737747\n",
      "[7000]\tvalid_0's auc: 0.737761\n",
      "[7100]\tvalid_0's auc: 0.737768\n",
      "[7200]\tvalid_0's auc: 0.737781\n",
      "[7300]\tvalid_0's auc: 0.737791\n",
      "[7400]\tvalid_0's auc: 0.737798\n",
      "[7500]\tvalid_0's auc: 0.737812\n",
      "[7600]\tvalid_0's auc: 0.73784\n",
      "[7700]\tvalid_0's auc: 0.737872\n",
      "[7800]\tvalid_0's auc: 0.737909\n",
      "[7900]\tvalid_0's auc: 0.737924\n",
      "[8000]\tvalid_0's auc: 0.737926\n",
      "[8100]\tvalid_0's auc: 0.737935\n",
      "[8200]\tvalid_0's auc: 0.737951\n",
      "[8300]\tvalid_0's auc: 0.737965\n",
      "[8400]\tvalid_0's auc: 0.73797\n",
      "[8500]\tvalid_0's auc: 0.737982\n",
      "[8600]\tvalid_0's auc: 0.737997\n",
      "[8700]\tvalid_0's auc: 0.73801\n",
      "[8800]\tvalid_0's auc: 0.738015\n",
      "[8900]\tvalid_0's auc: 0.738003\n",
      "[9000]\tvalid_0's auc: 0.738009\n",
      "Early stopping, best iteration is:\n",
      "[8806]\tvalid_0's auc: 0.738015\n",
      "[0.7380153384770041]\n"
     ]
    }
   ],
   "source": [
    "\n",
    "param = {'numleaves': 200, 'mindatainleaf': 60, \n",
    "'objective':'binary',\n",
    "'maxdepth': -1, 'learningrate': 0.1,\n",
    "\"boosting\": \"gbdt\",\n",
    "\"featurefraction\": 0.8, \"baggingfreq\": 1,\n",
    "\"baggingfraction\": 0.8, \"baggingseed\": 11,\n",
    "\"metric\": 'auc',\n",
    "\"lambdal1\": 0.1, \"randomstate\": 7,\n",
    "\"verbosity\": -1,\n",
    "\"n_jobs\":-1}\n",
    "\n",
    "auc=list()\n",
    "for i in [1]:\n",
    "    x1, x2, y1, y2 = model_selection.train_test_split(train, target, test_size=0.2)#, random_state=25)\n",
    "    num_round = 10000\n",
    "    model = lgb.train(param,\n",
    "                      lgb.Dataset(x1, y1), #categorical_feature = categorical_features),\n",
    "                      num_round,\n",
    "                      lgb.Dataset(x2, y2), #categorical_feature = categorical_features),\n",
    "                      verbose_eval=100,\n",
    "                      early_stopping_rounds=200)\n",
    "    auc.append(model.best_score['valid_0']['auc'])\n",
    "print(auc)    \n",
    "#best 120,40 .7365\n",
    "# 120,60 .7354\n",
    "# 120,100 .7349\n",
    "# 100, 100 .7343\n",
    "# 100,60 .7340\n",
    "# 120,30 .7337"
   ]
  },
  {
   "cell_type": "code",
   "execution_count": null,
   "metadata": {},
   "outputs": [],
   "source": [
    "Previous used\n",
    "param = {'num_leaves': 120,\n",
    "         'min_data_in_leaf': 40, \n",
    "         'objective':'binary',\n",
    "         'max_depth': -1,\n",
    "         'learning_rate': 0.05,\n",
    "         \"boosting\": \"gbdt\",\n",
    "         \"feature_fraction\": 0.5,\n",
    "         \"bagging_freq\": 1,\n",
    "         \"bagging_fraction\": 0.8 ,\n",
    "         \"bagging_seed\": 11,\n",
    "         \"metric\": 'auc',\n",
    "         \"lambda_l1\": 0.1,\n",
    "         \n",
    "         \"verbosity\": -1}"
   ]
  },
  {
   "cell_type": "code",
   "execution_count": null,
   "metadata": {},
   "outputs": [],
   "source": [
    "#old best...\n",
    "param = {'num_leaves': 120,\n",
    "         'min_data_in_leaf': 40, \n",
    "         'objective':'binary',\n",
    "         'max_depth': -1,\n",
    "         'learning_rate': 0.05,\n",
    "         \"boosting\": \"gbdt\",\n",
    "         \"feature_fraction\": 0.3,\n",
    "         \"bagging_freq\": 1,\n",
    "         \"bagging_fraction\": 0.8 ,\n",
    "         \"bagging_seed\": 11,\n",
    "         \"metric\": 'auc',\n",
    "         \"lambda_l1\": 0.1,\n",
    "         \"random_state\": 133,\n",
    "         \"verbosity\": -1}"
   ]
  },
  {
   "cell_type": "code",
   "execution_count": null,
   "metadata": {},
   "outputs": [],
   "source": [
    "BEST!!!\n",
    "param = {'num_leaves': 100,\n",
    "         'min_data_in_leaf': 100, \n",
    "         'objective':'binary',\n",
    "         'max_depth': -1,\n",
    "         'learning_rate': 0.05,\n",
    "         \"boosting\": \"gbdt\",\n",
    "         \"feature_fraction\": 0.3,\n",
    "         \"bagging_freq\": 1,\n",
    "         \"bagging_fraction\": 0.8 ,\n",
    "         \"bagging_seed\": 11,\n",
    "         \"metric\": 'auc',\n",
    "         \"lambda_l1\": 0.1,\n",
    "         \"random_state\": 133,\n",
    "         \"verbosity\": -1}\n",
    "print(auc)\n",
    "np.mean(auc)\n",
    "#[0.7308381579060174, 0.7320804022520051, 0.7324145274772682, 0.7318521930897679, 0.7320724789343092]\n",
    "#0.7318515519318736\n",
    "\n",
    "#full set...\n",
    "#[2500]\tvalid_0's auc: 0.736881\n",
    "#[0.736880901504413]\n",
    "\n",
    "#[2458]\tvalid_0's auc: 0.734311\n",
    "#[0.7343107459475552]"
   ]
  },
  {
   "cell_type": "markdown",
   "metadata": {
    "_uuid": "08a4c881ae24d784e9ee3c197d1188e26fdb40c7"
   },
   "source": [
    "<a id=\"5\"></a> <br>\n",
    "## 5. Submission"
   ]
  },
  {
   "cell_type": "code",
   "execution_count": 28,
   "metadata": {},
   "outputs": [],
   "source": [
    "features=train.columns"
   ]
  },
  {
   "cell_type": "code",
   "execution_count": 29,
   "metadata": {},
   "outputs": [
    {
     "data": {
      "text/plain": [
       "(8921482, 76)"
      ]
     },
     "execution_count": 29,
     "metadata": {},
     "output_type": "execute_result"
    }
   ],
   "source": [
    "train.shape"
   ]
  },
  {
   "cell_type": "code",
   "execution_count": 30,
   "metadata": {},
   "outputs": [],
   "source": [
    "predictions = model.predict(test[features], num_iteration=model.best_iteration)"
   ]
  },
  {
   "cell_type": "code",
   "execution_count": 31,
   "metadata": {
    "_uuid": "1fe8a68970387c8e57d373b4d0944731a32ccd51"
   },
   "outputs": [
    {
     "data": {
      "text/html": [
       "<div>\n",
       "<style scoped>\n",
       "    .dataframe tbody tr th:only-of-type {\n",
       "        vertical-align: middle;\n",
       "    }\n",
       "\n",
       "    .dataframe tbody tr th {\n",
       "        vertical-align: top;\n",
       "    }\n",
       "\n",
       "    .dataframe thead th {\n",
       "        text-align: right;\n",
       "    }\n",
       "</style>\n",
       "<table border=\"1\" class=\"dataframe\">\n",
       "  <thead>\n",
       "    <tr style=\"text-align: right;\">\n",
       "      <th></th>\n",
       "      <th>MachineIdentifier</th>\n",
       "      <th>HasDetections</th>\n",
       "    </tr>\n",
       "  </thead>\n",
       "  <tbody>\n",
       "    <tr>\n",
       "      <th>0</th>\n",
       "      <td>0000010489e3af074adeac69c53e555e</td>\n",
       "      <td>0.461210</td>\n",
       "    </tr>\n",
       "    <tr>\n",
       "      <th>1</th>\n",
       "      <td>00000176ac758d54827acd545b6315a5</td>\n",
       "      <td>0.460224</td>\n",
       "    </tr>\n",
       "    <tr>\n",
       "      <th>2</th>\n",
       "      <td>0000019dcefc128c2d4387c1273dae1d</td>\n",
       "      <td>0.580194</td>\n",
       "    </tr>\n",
       "    <tr>\n",
       "      <th>3</th>\n",
       "      <td>0000055553dc51b1295785415f1a224d</td>\n",
       "      <td>0.442542</td>\n",
       "    </tr>\n",
       "    <tr>\n",
       "      <th>4</th>\n",
       "      <td>00000574cefffeca83ec8adf9285b2bf</td>\n",
       "      <td>0.558480</td>\n",
       "    </tr>\n",
       "    <tr>\n",
       "      <th>5</th>\n",
       "      <td>000007ffedd31948f08e6c16da31f6d1</td>\n",
       "      <td>0.483015</td>\n",
       "    </tr>\n",
       "    <tr>\n",
       "      <th>6</th>\n",
       "      <td>000008f31610018d898e5f315cdf1bd1</td>\n",
       "      <td>0.183537</td>\n",
       "    </tr>\n",
       "    <tr>\n",
       "      <th>7</th>\n",
       "      <td>00000a3c447250626dbcc628c9cbc460</td>\n",
       "      <td>0.114496</td>\n",
       "    </tr>\n",
       "    <tr>\n",
       "      <th>8</th>\n",
       "      <td>00000b6bf217ec9aef0f68d5c6705897</td>\n",
       "      <td>0.009662</td>\n",
       "    </tr>\n",
       "    <tr>\n",
       "      <th>9</th>\n",
       "      <td>00000b8d3776b13e93ad83676a28e4aa</td>\n",
       "      <td>0.145404</td>\n",
       "    </tr>\n",
       "  </tbody>\n",
       "</table>\n",
       "</div>"
      ],
      "text/plain": [
       "                  MachineIdentifier  HasDetections\n",
       "0  0000010489e3af074adeac69c53e555e       0.461210\n",
       "1  00000176ac758d54827acd545b6315a5       0.460224\n",
       "2  0000019dcefc128c2d4387c1273dae1d       0.580194\n",
       "3  0000055553dc51b1295785415f1a224d       0.442542\n",
       "4  00000574cefffeca83ec8adf9285b2bf       0.558480\n",
       "5  000007ffedd31948f08e6c16da31f6d1       0.483015\n",
       "6  000008f31610018d898e5f315cdf1bd1       0.183537\n",
       "7  00000a3c447250626dbcc628c9cbc460       0.114496\n",
       "8  00000b6bf217ec9aef0f68d5c6705897       0.009662\n",
       "9  00000b8d3776b13e93ad83676a28e4aa       0.145404"
      ]
     },
     "execution_count": 31,
     "metadata": {},
     "output_type": "execute_result"
    }
   ],
   "source": [
    "sub_df = pd.DataFrame({\"MachineIdentifier\": test[\"MachineIdentifier\"].values})\n",
    "sub_df[\"HasDetections\"] = predictions\n",
    "sub_df[:10]"
   ]
  },
  {
   "cell_type": "code",
   "execution_count": 32,
   "metadata": {
    "_uuid": "65cd74398d3f80186d65a2ff3431403a6846e229"
   },
   "outputs": [],
   "source": [
    "sub_df.to_csv(\"submitVersion2_14.csv\", index=False)"
   ]
  },
  {
   "cell_type": "code",
   "execution_count": null,
   "metadata": {},
   "outputs": [],
   "source": []
  },
  {
   "cell_type": "markdown",
   "metadata": {},
   "source": [
    "# New heading"
   ]
  }
 ],
 "metadata": {
  "kernelspec": {
   "display_name": "Python 3",
   "language": "python",
   "name": "python3"
  },
  "language_info": {
   "codemirror_mode": {
    "name": "ipython",
    "version": 3
   },
   "file_extension": ".py",
   "mimetype": "text/x-python",
   "name": "python",
   "nbconvert_exporter": "python",
   "pygments_lexer": "ipython3",
   "version": "3.6.6"
  }
 },
 "nbformat": 4,
 "nbformat_minor": 1
}
